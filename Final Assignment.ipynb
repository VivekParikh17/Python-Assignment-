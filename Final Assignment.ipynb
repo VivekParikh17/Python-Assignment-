{
 "cells": [
  {
   "cell_type": "markdown",
   "id": "b9aae692",
   "metadata": {},
   "source": [
    "# Data Science Tools and Ecosystem"
   ]
  },
  {
   "cell_type": "markdown",
   "id": "3ae0c6d1",
   "metadata": {},
   "source": [
    "In this notebook, Data Science Tools and Ecosystem are summarized."
   ]
  },
  {
   "cell_type": "markdown",
   "id": "0f361894",
   "metadata": {},
   "source": [
    "**Objectives:**\n",
    "- List popular languages for Data Science\n",
    "- List common libraries used for Data Science\n",
    "- List Data Science Tools\n",
    "- Demonstarte arithmetic expression evaluation in Python\n",
    "- Convert units of measurement using Python"
   ]
  },
  {
   "cell_type": "markdown",
   "id": "1edb9a26",
   "metadata": {},
   "source": [
    "Some of the popular languages that Data Scientists use are:\n",
    "1. Python\n",
    "2. R\n",
    "3. SQL\n",
    "4. Sclala\n",
    "5. Java"
   ]
  },
  {
   "cell_type": "markdown",
   "id": "593d7e01",
   "metadata": {},
   "source": [
    "Some of the commonly used libraries used by data scientist include:\n",
    "- Numpy\n",
    "- Pandas\n",
    "- Matplotlib\n",
    "- Seaborn\n",
    "- Tensorflow\n",
    "- Pytorch\n",
    "- Scikit-learn"
   ]
  },
  {
   "cell_type": "markdown",
   "id": "8f2dd16c",
   "metadata": {},
   "source": [
    "| Data Science Tools |\n",
    "|--------------------|\n",
    "| Jupyter Notebook   |\n",
    "| RStudio            |\n",
    "| Apache Hadoop      |\n",
    "| Excel              |\n",
    "| Microsoft PowerBI  |"
   ]
  },
  {
   "cell_type": "markdown",
   "id": "682493c6",
   "metadata": {},
   "source": [
    "### Below are a few examples of evaluating arithmetic expressions in Python."
   ]
  },
  {
   "cell_type": "code",
   "execution_count": 1,
   "id": "01d8efa1",
   "metadata": {},
   "outputs": [
    {
     "data": {
      "text/plain": [
       "17"
      ]
     },
     "execution_count": 1,
     "metadata": {},
     "output_type": "execute_result"
    }
   ],
   "source": [
    "# This is a simple arithmetic expression to multiply then add integers\n",
    "(3*4)+5"
   ]
  },
  {
   "cell_type": "code",
   "execution_count": 3,
   "id": "d98ea2b9",
   "metadata": {},
   "outputs": [
    {
     "data": {
      "text/plain": [
       "3.3333333333333335"
      ]
     },
     "execution_count": 3,
     "metadata": {},
     "output_type": "execute_result"
    }
   ],
   "source": [
    "# This will convert 200 minutes to hours by dividing by 60\n",
    "minutes = 200\n",
    "hours = minutes / 60\n",
    "hours"
   ]
  },
  {
   "cell_type": "markdown",
   "id": "540894b1",
   "metadata": {},
   "source": [
    "## Author\n",
    "Vivek Parikh"
   ]
  },
  {
   "cell_type": "code",
   "execution_count": null,
   "id": "f2641b44",
   "metadata": {},
   "outputs": [],
   "source": []
  }
 ],
 "metadata": {
  "kernelspec": {
   "display_name": "Python 3 (ipykernel)",
   "language": "python",
   "name": "python3"
  },
  "language_info": {
   "codemirror_mode": {
    "name": "ipython",
    "version": 3
   },
   "file_extension": ".py",
   "mimetype": "text/x-python",
   "name": "python",
   "nbconvert_exporter": "python",
   "pygments_lexer": "ipython3",
   "version": "3.11.5"
  }
 },
 "nbformat": 4,
 "nbformat_minor": 5
}
